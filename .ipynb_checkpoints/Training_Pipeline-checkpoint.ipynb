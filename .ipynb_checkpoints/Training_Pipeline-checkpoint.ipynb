{
 "cells": [
  {
   "cell_type": "markdown",
   "metadata": {},
   "source": [
    "# Section 1: Setup Azure ML Service environment"
   ]
  },
  {
   "cell_type": "markdown",
   "metadata": {},
   "source": [
    "## Login to Azure"
   ]
  },
  {
   "cell_type": "code",
   "execution_count": null,
   "metadata": {
    "scrolled": true
   },
   "outputs": [],
   "source": [
    "!az login"
   ]
  },
  {
   "cell_type": "markdown",
   "metadata": {},
   "source": [
    "## Read global configuration variables from training_pipeline_config.json"
   ]
  },
  {
   "cell_type": "code",
   "execution_count": null,
   "metadata": {},
   "outputs": [],
   "source": [
    "# A training_pipeline_config.json file has to be created on same folder as this Jupyter Notebook\n",
    "# copy and paste the following commented JSON block and replacing the \"account_key\" field\n",
    "# with the real account_key value to connect to the Azure Blob Storage\n",
    "#\n",
    "# {\n",
    "#     \"compute_name\" : \"XXXXX\",\n",
    "#     \"input_data_store_name\" : \"XXXXX\",\n",
    "#     \"input_container_name\" : \"XXXXX\",\n",
    "#     \"input_folder_path\" : \".\",\n",
    "#     \"account_name\" : \"XXXXX\",\n",
    "#     \"account_key\" : \"XXXXX\",\n",
    "#     \"train_csv_file\" : \"XXXXX.csv\",\n",
    "#     \"model_name\" : \"sample\",\n",
    "#     \"pipeline_name\" : \"Test Training Pipeline\",\n",
    "#     \"pipeline_experiment_name\" : \"Test_Training_PEX\",\n",
    "#     \"pipeline_schedule_name\" : \"Test_Training_Schedule\",\n",
    "#     \"pipeline_schedule_frequency\" : \"Week\",\n",
    "#     \"pipeline_schedule_interval\" : 1,\n",
    "#     \"pipeline_schedule_time_of_day\" : \"12:00\",\n",
    "#     \"pipeline_schedule_weeks_days\" : [\"Monday\"]\n",
    "# }\n",
    "#\n",
    "# Json fields documentation:\n",
    "# - \"compute_name\" is the name of the AML Compute cluster to use from the ones configured in the AML Workspace.  Other optional values could be for example \"cpucluster\" or \"dlcluser\" (for GPU requirements)\n",
    "# - \"input_container_name\" and \"output_container_name\" are the names of the input and output Blob Containers (gap-input and gap-output) from the \"account_name\" Blob Storage \n",
    "# - \"input_data_store_name\" and \"output_data_store_name\" are the internal AML names used to map respectively the gap-input and gap-output blob containers to the the AML Datastore.  These could have any string name.\n",
    "# - \"input_folder_path\" is the path relative to the root folder of the gap-input container to the input CSV file to be used for batch scoring\n",
    "# - \"account_name\" is the name of the Azure Blob Storage to use\n",
    "# - \"account_key\" is the security key to access the \"account_name\" Azure Blob Storage\n",
    "# - \"train_csv_file\" is the input csv file in the input folder\n",
    "# - \"model_name\" is the name of the sample model as registered by the training pipeline\n",
    "# - \"pipeline_name\" is the name of the Pipeline to create\n",
    "# - \"pipeline_experiment_name\" is the name of Experiment to interactivily run the Pipeline as an Experiment\n",
    "# - \"pipeline_schedule_name\" is the name of the Schedule for the Pipeline\n",
    "# - \"pipeline_schedule_frequency\" is the unit of time that describes how often the schedule fires. Can be \"Minute\", \"Hour\", \"Day\", \"Week\", or \"Month\"\n",
    "# - \"pipeline_schedule_interval\" is the value that specifies how often the schedule fires based on the frequency, which is the number of time units to wait until the schedule fires again\n",
    "# - \"pipeline_schedule_time_of_day\" is a string in the form hh:mm specifing the time of the schedule recurrence. For example, if you specify \"15:30\" then the schedule will run at 3:30pm.\n",
    "# - \"pipeline_schedule_weeks_days\" if you specify \"Week\" for pipeline_schedule_frequency, you can specify one or more days, separated by commas, when you want to run the workflow: \"Monday\", \"Tuesday\", \"Wednesday\", \"Thursday\", \"Friday\", \"Saturday\", and \"Sunday\"\n",
    "\n",
    "import json\n",
    "\n",
    "with open('training_pipeline_config.json') as f:\n",
    "    configuration = json.load(f)"
   ]
  },
  {
   "cell_type": "markdown",
   "metadata": {},
   "source": [
    "## Setup Workspace"
   ]
  },
  {
   "cell_type": "code",
   "execution_count": null,
   "metadata": {},
   "outputs": [],
   "source": [
    "from azureml.core import Workspace, Experiment, Run, Datastore\n",
    "ws = Workspace.from_config()"
   ]
  },
  {
   "cell_type": "markdown",
   "metadata": {},
   "source": [
    "## Get Compute Clusters"
   ]
  },
  {
   "cell_type": "code",
   "execution_count": null,
   "metadata": {},
   "outputs": [],
   "source": [
    "from azureml.core.compute import AmlCompute\n",
    "from azureml.core.compute import ComputeTarget\n",
    "\n",
    "def get_compute_cluster(ws, compute_name):\n",
    "    if compute_name in ws.compute_targets:\n",
    "        compute_target = ws.compute_targets[compute_name]\n",
    "        if compute_target and type(compute_target) is AmlCompute:\n",
    "            print('found compute target. just use it. ' + compute_name)\n",
    "            return compute_target\n",
    "    else:\n",
    "        print('Error getting Compute target...')\n",
    "\n",
    "compute_target = get_compute_cluster(ws, configuration[\"compute_name\"])"
   ]
  },
  {
   "cell_type": "markdown",
   "metadata": {},
   "source": [
    "## Register External Blob datastores"
   ]
  },
  {
   "cell_type": "code",
   "execution_count": null,
   "metadata": {},
   "outputs": [],
   "source": [
    "input_data_store = Datastore.register_azure_blob_container(workspace=ws, \n",
    "                                             datastore_name=configuration[\"input_data_store_name\"],\n",
    "                                             container_name=configuration[\"input_container_name\"],\n",
    "                                             account_name=configuration[\"account_name\"],\n",
    "                                             account_key=configuration[\"account_key\"],\n",
    "                                             create_if_not_exists=False)"
   ]
  },
  {
   "cell_type": "markdown",
   "metadata": {},
   "source": [
    "## Connect to Blob datastores"
   ]
  },
  {
   "cell_type": "code",
   "execution_count": null,
   "metadata": {},
   "outputs": [],
   "source": [
    "#list all datastores registered in current workspace\n",
    "datastores = ws.datastores\n",
    "for name, ds in datastores.items():\n",
    "    print(name, ds.datastore_type)"
   ]
  },
  {
   "cell_type": "code",
   "execution_count": null,
   "metadata": {},
   "outputs": [],
   "source": [
    "#def_data_store = ws.get_default_datastore() \n",
    "input_data_store = Datastore(ws, configuration[\"input_data_store_name\"])"
   ]
  },
  {
   "cell_type": "markdown",
   "metadata": {},
   "source": [
    "## Create Data References to input file"
   ]
  },
  {
   "cell_type": "code",
   "execution_count": null,
   "metadata": {},
   "outputs": [],
   "source": [
    "from azureml.data.data_reference import DataReference\n",
    "\n",
    "input_data_reference = DataReference(\n",
    "    datastore=input_data_store,\n",
    "    data_reference_name=\"input_data\",\n",
    "    path_on_datastore=configuration[\"input_folder_path\"])"
   ]
  },
  {
   "cell_type": "markdown",
   "metadata": {},
   "source": [
    "# Section 2: Prepare Python Scripts for Training"
   ]
  },
  {
   "cell_type": "markdown",
   "metadata": {},
   "source": [
    "## Prepare Script Folder"
   ]
  },
  {
   "cell_type": "code",
   "execution_count": null,
   "metadata": {},
   "outputs": [],
   "source": [
    "import os\n",
    "SCRIPT_FOLDER  = os.path.join(os.getcwd(), \"training_scripts\")\n",
    "os.makedirs(SCRIPT_FOLDER, exist_ok=True)"
   ]
  },
  {
   "cell_type": "markdown",
   "metadata": {},
   "source": [
    "## Sample Model Training Script"
   ]
  },
  {
   "cell_type": "code",
   "execution_count": null,
   "metadata": {},
   "outputs": [],
   "source": [
    "%%writefile $SCRIPT_FOLDER/sample_training.py\n",
    "\n",
    "\"\"\"\n",
    "This module implement the sample model training main script.\n",
    "\"\"\"\n",
    "import os\n",
    "import pandas as pd\n",
    "from azureml.core import Run\n",
    "from sklearn.externals import joblib\n",
    "\n",
    "LOCAL_MODEL_FILE = \"samle.pkl\"\n",
    "\n",
    "def train(data_dir, train_csv_file, sparcity_threshold):\n",
    "    \"\"\"\n",
    "    Main train script for the Sample Model Training\n",
    "    \"\"\"\n",
    "    # Read the Data From File\n",
    "    # features_df = pd.read_csv(os.path.join(data_dir, train_csv_file))\n",
    "\n",
    "    # train model\n",
    "    model = {}\n",
    "\n",
    "    # locally save model\n",
    "    os.makedirs('outputs', exist_ok=True)\n",
    "    joblib.dump(value=model, filename=\"outputs/\" + LOCAL_MODEL_FILE)\n",
    "    print(\"Model saved\")\n",
    "\n",
    "\n",
    "if __name__ == \"__main__\":\n",
    "    RUN = Run.get_context()\n",
    "    RUN.log(\"Training step\", 1)\n",
    "\n",
    "    # Get Parameters\n",
    "    PARSER = argparse.ArgumentParser(\"training\")\n",
    "    PARSER.add_argument('--input', type=str, \\\n",
    "        dest='data_dir', help='data storage reference in AML', required=True)\n",
    "    PARSER.add_argument('--train_csv_file', \\\n",
    "        type=str, help='input csv file in the input folder', required=True)\n",
    "    PARSER.add_argument('--model_name', \\\n",
    "        type=str, help='model name', required=True)\n",
    "\n",
    "    ARGS = PARSER.parse_args()\n",
    "\n",
    "    print(\"In basemodel_training.py\")\n",
    "\n",
    "    # Train / Test / Upload Model\n",
    "    train(ARGS.data_dir, ARGS.train_csv_file)\n",
    "\n",
    "    RUN.log(\"Training step\", 2)\n",
    "    print(\"Model trained\")\n",
    "\n",
    "    # Upload model\n",
    "    print(RUN.get_file_names())\n",
    "    RUN.upload_file(LOCAL_MODEL_FILE, \"outputs/\" + LOCAL_MODEL_FILE)\n",
    "    MODEL = RUN.register_model(model_name=ARGS.model_name, model_path=LOCAL_MODEL_FILE)\n",
    "    print(MODEL.name, MODEL.id, MODEL.version, sep='\\t')\n",
    "    RUN.log(\"Training step\", 3)\n",
    "    print(\"Model registered\")\n",
    "\n",
    "    RUN.complete()\n"
   ]
  },
  {
   "cell_type": "markdown",
   "metadata": {},
   "source": [
    "# Section 3: Prepare Training Pipeline"
   ]
  },
  {
   "cell_type": "markdown",
   "metadata": {},
   "source": [
    "## Create Pipeline"
   ]
  },
  {
   "cell_type": "code",
   "execution_count": null,
   "metadata": {},
   "outputs": [],
   "source": [
    "# from azureml.pipeline.steps.python_script_step import PythonScriptStep\n",
    "from azureml.pipeline.core.graph import PipelineParameter\n",
    "from azureml.core.runconfig import RunConfiguration\n",
    "from azureml.core.conda_dependencies import CondaDependencies\n",
    "from azureml.train.estimator import Estimator\n",
    "from azureml.pipeline.steps import EstimatorStep\n",
    "\n",
    "train_csv_file = PipelineParameter(\n",
    "  name=\"train_csv_file\", \n",
    "  default_value=configuration[\"train_csv_file\"])\n",
    "\n",
    "model_name = PipelineParameter(\n",
    "  name=\"model_name\", \n",
    "  default_value=configuration[\"model_name\"])\n",
    "\n",
    "sample_est = Estimator(source_directory=SCRIPT_FOLDER, \n",
    "                compute_target=compute_target, \n",
    "                entry_script='sample_training.py',\n",
    "                conda_packages=['numpy','pandas', 'scikit-learn', 'tensorflow', 'keras'],\n",
    "                pip_packages=['azure', 'azureml-core', 'azure-storage', 'azure-storage-blob']\n",
    "               )\n",
    "\n",
    "sample_step = EstimatorStep(name=\"Estimator_Base_Model_Train\", \n",
    "                         estimator=sample_est, \n",
    "                         estimator_entry_script_arguments=[\n",
    "                            \"--input\", input_data_reference,\n",
    "                            \"--train_csv_file\", train_csv_file,\n",
    "                            \"--model_name\", model_name\n",
    "                         ],\n",
    "                         runconfig_pipeline_params=None, \n",
    "                         inputs=[input_data_reference], \n",
    "                         compute_target=compute_target)"
   ]
  },
  {
   "cell_type": "code",
   "execution_count": null,
   "metadata": {},
   "outputs": [],
   "source": [
    "from azureml.pipeline.core import Pipeline\n",
    "\n",
    "training_pipeline = Pipeline(workspace=ws, steps=[sample_step])"
   ]
  },
  {
   "cell_type": "markdown",
   "metadata": {},
   "source": [
    "## Test Pipeline (Optional)"
   ]
  },
  {
   "cell_type": "code",
   "execution_count": null,
   "metadata": {},
   "outputs": [],
   "source": [
    "# Submit the pipeline to be run\n",
    "pipeline_run1 = Experiment(ws, configuration[\"pipeline_experiment_name\"]).submit(training_pipeline, show_output=True)\n",
    "pipeline_run1.wait_for_completion()"
   ]
  },
  {
   "cell_type": "markdown",
   "metadata": {},
   "source": [
    "## View Run Details"
   ]
  },
  {
   "cell_type": "code",
   "execution_count": null,
   "metadata": {},
   "outputs": [],
   "source": [
    "from azureml.widgets import RunDetails\n",
    "RunDetails(pipeline_run1).show()"
   ]
  },
  {
   "cell_type": "markdown",
   "metadata": {},
   "source": [
    "## Publish Pipeline"
   ]
  },
  {
   "cell_type": "code",
   "execution_count": null,
   "metadata": {},
   "outputs": [],
   "source": [
    "published_pipeline = training_pipeline.publish(name=configuration[\"pipeline_name\"])\n",
    "published_pipeline"
   ]
  },
  {
   "cell_type": "markdown",
   "metadata": {},
   "source": [
    "## Get published pipeline ID (Optional)"
   ]
  },
  {
   "cell_type": "code",
   "execution_count": null,
   "metadata": {},
   "outputs": [],
   "source": [
    "from azureml.pipeline.core import PublishedPipeline\n",
    "from azureml.pipeline.core import Schedule, ScheduleRecurrence\n",
    "\n",
    "all_pub_pipelines = PublishedPipeline.get_all(ws)\n",
    "\n",
    "print(\"Published pipelines found in the workspace:\")\n",
    "for pub_pipeline in all_pub_pipelines:\n",
    "    print(pub_pipeline.id, pub_pipeline.name)\n",
    "    pub_pipeline_id = pub_pipeline.id\n",
    "\n",
    "\n",
    "all_schedules = Schedule.get_all(ws, active_only=True) \n",
    "for schedule in all_schedules:\n",
    "    print(\"{} {} pipeline: {}\".format(schedule.id, schedule.name, schedule.pipeline_id))\n",
    "    "
   ]
  },
  {
   "cell_type": "markdown",
   "metadata": {},
   "source": [
    "## Remove previous Pipeline and Scheduling (Warning)"
   ]
  },
  {
   "cell_type": "code",
   "execution_count": null,
   "metadata": {},
   "outputs": [],
   "source": [
    "ensemble_training_pipeline = PublishedPipeline.get(ws, \"85105a90-76fc-4136-90aa-ff0e079008e5\")\n",
    "print(ensemble_training_pipeline.name)\n",
    "ensemble_training_schedule = Schedule.get(ws, \"9d9a73f8-8441-415a-944e-bd9875e11640\")\n",
    "print(ensemble_training_schedule.name)\n",
    "\n",
    "# ensemble_training_schedule.disable()\n",
    "# ensemble_training_pipeline.disable()"
   ]
  },
  {
   "cell_type": "markdown",
   "metadata": {},
   "source": [
    "## Schedule Pipeline"
   ]
  },
  {
   "cell_type": "code",
   "execution_count": null,
   "metadata": {},
   "outputs": [],
   "source": [
    "from azureml.pipeline.core import Schedule, ScheduleRecurrence\n",
    "from azureml.pipeline.core.schedule import TimeZone\n",
    "\n",
    "recurrence = ScheduleRecurrence(frequency=configuration[\"pipeline_schedule_name\"], \n",
    "                                interval=configuration[\"pipeline_schedule_interval\"], \n",
    "                                time_of_day=configuration[\"pipeline_schedule_time_of_day\"],\n",
    "#                                 start_time=\"2019-05-25T02:00:00\",\n",
    "                                week_days=configuration[\"pipeline_schedule_weeks_days\"],\n",
    "                                time_zone=TimeZone.CentralStandardTime)\n",
    "\n",
    "schedule = Schedule.create(workspace=ws, \n",
    "                           name=configuration[\"pipeline_schedule_name\"],\n",
    "                           pipeline_id=published_pipeline.id, \n",
    "                           experiment_name=configuration[\"pipeline_schedule_name\"] + '_Run',\n",
    "                           recurrence=recurrence,\n",
    "                           wait_for_provisioning=True,\n",
    "                           description=configuration[\"pipeline_schedule_name\"] + '_Run')\n",
    "\n",
    "print(\"Created schedule with id: {}\".format(schedule.id))"
   ]
  },
  {
   "cell_type": "markdown",
   "metadata": {},
   "source": [
    "## Disable all Schedules and Pipelines (Warning)"
   ]
  },
  {
   "cell_type": "code",
   "execution_count": null,
   "metadata": {},
   "outputs": [],
   "source": [
    "all_schedules = Schedule.get_all(ws, active_only=True) \n",
    "for schedule in all_schedules:\n",
    "    print(\"{} (Delete published pipeline: {}\".format(schedule.id, schedule.pipeline_id))\n",
    "    schedule.disable()\n",
    "\n",
    "all_pub_pipelines = PublishedPipeline.get_all(ws)\n",
    "for pub_pipeline in all_pub_pipelines:\n",
    "    print(pub_pipeline.id)\n",
    "    pub_pipeline.disable()"
   ]
  },
  {
   "cell_type": "code",
   "execution_count": null,
   "metadata": {},
   "outputs": [],
   "source": []
  }
 ],
 "metadata": {
  "kernelspec": {
   "display_name": "Python 3",
   "language": "python",
   "name": "python3"
  },
  "language_info": {
   "codemirror_mode": {
    "name": "ipython",
    "version": 3
   },
   "file_extension": ".py",
   "mimetype": "text/x-python",
   "name": "python",
   "nbconvert_exporter": "python",
   "pygments_lexer": "ipython3",
   "version": "3.7.3"
  }
 },
 "nbformat": 4,
 "nbformat_minor": 2
}
